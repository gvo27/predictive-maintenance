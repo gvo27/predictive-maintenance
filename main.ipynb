{
 "cells": [
  {
   "cell_type": "code",
   "execution_count": 1,
   "id": "8100321c",
   "metadata": {},
   "outputs": [
    {
     "name": "stdout",
     "output_type": "stream",
     "text": [
      "{'uci_id': 601, 'name': 'AI4I 2020 Predictive Maintenance Dataset', 'repository_url': 'https://archive.ics.uci.edu/dataset/601/ai4i+2020+predictive+maintenance+dataset', 'data_url': 'https://archive.ics.uci.edu/static/public/601/data.csv', 'abstract': 'The AI4I 2020 Predictive Maintenance Dataset is a synthetic dataset that reflects real predictive maintenance data encountered in industry.', 'area': 'Computer Science', 'tasks': ['Classification', 'Regression', 'Causal-Discovery'], 'characteristics': ['Multivariate', 'Time-Series'], 'num_instances': 10000, 'num_features': 6, 'feature_types': ['Real'], 'demographics': [], 'target_col': ['Machine failure', 'TWF', 'HDF', 'PWF', 'OSF', 'RNF'], 'index_col': ['UID', 'Product ID'], 'has_missing_values': 'no', 'missing_values_symbol': None, 'year_of_dataset_creation': 2020, 'last_updated': 'Wed Feb 14 2024', 'dataset_doi': '10.24432/C5HS5C', 'creators': [], 'intro_paper': {'ID': 386, 'type': 'NATIVE', 'title': 'Explainable Artificial Intelligence for Predictive Maintenance Applications', 'authors': 'S. Matzka', 'venue': 'International Conference on Artificial Intelligence for Industries', 'year': 2020, 'journal': None, 'DOI': '10.1109/AI4I49448.2020.00023', 'URL': 'https://www.semanticscholar.org/paper/b609c8e9ec6a2b8c642810953ef6dffe5766f7c1', 'sha': None, 'corpus': None, 'arxiv': None, 'mag': None, 'acl': None, 'pmid': None, 'pmcid': None}, 'additional_info': {'summary': 'Since real predictive maintenance datasets are generally difficult to obtain and in particular difficult to publish, we present and provide a synthetic dataset that reflects real predictive maintenance encountered in industry to the best of our knowledge.\\r\\n\\r\\n\\r\\n\\r\\n', 'purpose': None, 'funded_by': None, 'instances_represent': None, 'recommended_data_splits': None, 'sensitive_data': None, 'preprocessing_description': None, 'variable_info': \"The dataset consists of 10 000 data points stored as rows with 14 features in columns\\r\\nUID: unique identifier ranging from 1 to 10000\\r\\nproduct ID: consisting of a letter L, M, or H for low (50% of all products), medium (30%) and high (20%) as product quality variants and a variant-specific serial number\\r\\nair temperature [K]: generated using a random walk process later normalized to a standard deviation of 2 K around 300 K\\r\\nprocess temperature [K]: generated using a random walk process normalized to a standard deviation of 1 K, added to the air temperature plus 10 K.\\r\\nrotational speed [rpm]: calculated from a power of 2860 W, overlaid with a normally distributed noise\\r\\ntorque [Nm]: torque values are normally distributed around 40 Nm with a Ïƒ = 10 Nm and no negative values. \\r\\ntool wear [min]: The quality variants H/M/L add 5/3/2 minutes of tool wear to the used tool in the process. and a\\r\\n'machine failure' label that indicates, whether the machine has failed in this particular datapoint for any of the following failure modes are true.\\r\\n\\r\\nThe machine failure consists of five independent failure modes\\r\\ntool wear failure (TWF): the tool will be replaced of fail at a randomly selected tool wear time between 200 â€“ 240 mins (120 times in our dataset). At this point in time, the tool is replaced 69 times, and fails 51 times (randomly assigned).\\r\\nheat dissipation failure (HDF): heat dissipation causes a process failure, if the difference between air- and process temperature is below 8.6 K and the toolâ€™s rotational speed is below 1380 rpm. This is the case for 115 data points.\\r\\npower failure (PWF): the product of torque and rotational speed (in rad/s) equals the power required for the process. If this power is below 3500 W or above 9000 W, the process fails, which is the case 95 times in our dataset.\\r\\noverstrain failure (OSF): if the product of tool wear and torque exceeds 11,000 minNm for the L product variant (12,000 M, 13,000 H), the process fails due to overstrain. This is true for 98 datapoints.\\r\\nrandom failures (RNF): each process has a chance of 0,1 % to fail regardless of its process parameters. This is the case for only 5 datapoints, less than could be expected for 10,000 datapoints in our dataset.\\r\\n\\r\\nIf at least one of the above failure modes is true, the process fails and the 'machine failure' label is set to 1. It is therefore not transparent to the machine learning method, which of the failure modes has caused the process to fail \", 'citation': None}}\n",
      "                   name     role         type demographic description units  \\\n",
      "0                   UID       ID      Integer        None        None  None   \n",
      "1            Product ID       ID  Categorical        None        None  None   \n",
      "2                  Type  Feature  Categorical        None        None  None   \n",
      "3       Air temperature  Feature   Continuous        None        None     K   \n",
      "4   Process temperature  Feature   Continuous        None        None     K   \n",
      "5      Rotational speed  Feature      Integer        None        None   rpm   \n",
      "6                Torque  Feature   Continuous        None        None    Nm   \n",
      "7             Tool wear  Feature      Integer        None        None   min   \n",
      "8       Machine failure   Target      Integer        None        None  None   \n",
      "9                   TWF   Target      Integer        None        None  None   \n",
      "10                  HDF   Target      Integer        None        None  None   \n",
      "11                  PWF   Target      Integer        None        None  None   \n",
      "12                  OSF   Target      Integer        None        None  None   \n",
      "13                  RNF   Target      Integer        None        None  None   \n",
      "\n",
      "   missing_values  \n",
      "0              no  \n",
      "1              no  \n",
      "2              no  \n",
      "3              no  \n",
      "4              no  \n",
      "5              no  \n",
      "6              no  \n",
      "7              no  \n",
      "8              no  \n",
      "9              no  \n",
      "10             no  \n",
      "11             no  \n",
      "12             no  \n",
      "13             no  \n"
     ]
    }
   ],
   "source": [
    "from ucimlrepo import fetch_ucirepo \n",
    "  \n",
    "# fetch dataset \n",
    "ai4i_2020_predictive_maintenance_dataset = fetch_ucirepo(id=601) \n",
    "  \n",
    "# data (as pandas dataframes) \n",
    "X = ai4i_2020_predictive_maintenance_dataset.data.features \n",
    "y = ai4i_2020_predictive_maintenance_dataset.data.targets \n",
    "  \n",
    "# metadata \n",
    "print(ai4i_2020_predictive_maintenance_dataset.metadata) \n",
    "  \n",
    "# variable information \n",
    "print(ai4i_2020_predictive_maintenance_dataset.variables) \n"
   ]
  }
 ],
 "metadata": {
  "kernelspec": {
   "display_name": "venv",
   "language": "python",
   "name": "python3"
  },
  "language_info": {
   "codemirror_mode": {
    "name": "ipython",
    "version": 3
   },
   "file_extension": ".py",
   "mimetype": "text/x-python",
   "name": "python",
   "nbconvert_exporter": "python",
   "pygments_lexer": "ipython3",
   "version": "3.11.0"
  }
 },
 "nbformat": 4,
 "nbformat_minor": 5
}
